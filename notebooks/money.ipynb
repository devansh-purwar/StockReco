{
 "cells": [
  {
   "cell_type": "code",
   "execution_count": 26,
   "metadata": {},
   "outputs": [],
   "source": [
    "import requests \n",
    "from bs4 import BeautifulSoup \n",
    "\n",
    "URL = \"https://www.moneycontrol.com/news/stocksinnews-142.html\"\n",
    "r = requests.get(URL) \n",
    "\n",
    "soup = BeautifulSoup(r.content, 'html5lib') \n",
    "\n",
    "table = soup.findAll('li', attrs = {'class':'clearfix'}) \n",
    "temp = []\n",
    "for row in table:\n",
    "    link = row.find('a')['href']\n",
    "    title =  row.find('a')['title']\n",
    "    text = row.find('p').text\n",
    "    temp.append({\"link\":link,\"title\":title,\"text\":text})"
   ]
  },
  {
   "cell_type": "code",
   "execution_count": 27,
   "metadata": {},
   "outputs": [
    {
     "data": {
      "text/plain": [
       "[{'link': 'https://www.moneycontrol.com/news/photos/business/markets/gainers-losers-10-stocks-that-moved-the-most-on-april-28-2-10494651.html',\n",
       "  'title': 'Gainers & Losers: 10 stocks that moved the most on April 28',\n",
       "  'text': 'Indian equity benchmarks ended higher on April 28, with the Sensex gaining 463.06 points or 0.76 percent to 61,112.44. The Nifty ended 149.95 points, or 0.84 percent, higher at 18,065. As many as 2,246 shares advanced, 1,249 declined and 134 remained unchanged.'},\n",
       " {'link': 'https://www.moneycontrol.com/news/business/stocks/coforge-gains-4-on-crossing-1-bn-revenue-milestone-what-do-brokerages-say-10494791.html',\n",
       "  'title': 'Coforge gains 4% on crossing $1-bn revenue milestone: What do brokerages say?',\n",
       "  'text': 'The company reported a 48 percent YoY decline in net profit at Rs 117 crore, however revenue from operations increased 25 percent YoY to Rs 2,170 crore.'},\n",
       " {'link': 'https://www.moneycontrol.com/news/business/markets/glenmark-life-scales-52-week-high-as-strong-q4-earnings-bolsters-sentiment-10492751.html',\n",
       "  'title': 'Glenmark Life hits 52-week high as strong Q4 earnings bolsters sentiment',\n",
       "  'text': \"Glenmark Life's strong growth in Q4 was on account of better margins driven by higher contribution from CDMO business, better product mix, PLI benefit and lower input costs\"},\n",
       " {'link': 'https://www.moneycontrol.com/news/business/stocks/trent-falls-3-as-zudio-hits-q4-margins-10492871.html',\n",
       "  'title': 'Trent falls 3% as Zudio hits Q4 margins',\n",
       "  'text': 'HDFC Securities attributed the fall in margins, from 9.3 percent to 10.1 percent, to front-loading of Zudio-related costs. Trent’s Q4 net profit came in at Rs 54.2 crore, up from Rs 20.87 crore in the year-ago period'},\n",
       " {'link': 'https://www.moneycontrol.com/news/business/stocks/mphasis-shares-gain-2-despite-missing-street-projections-for-q4-10494321.html',\n",
       "  'title': 'Mphasis shares gain 2% despite missing Street projections for Q4',\n",
       "  'text': 'Mid-cap IT services company, Mphasis reported a 3.4 percent sequential decline in net profit at Rs 405 crore while revenue came in at Rs 3,361 crore, down 4.14 percent QoQ.'},\n",
       " {'link': 'https://www.moneycontrol.com/news/business/stocks/tech-mahindra-q4-earnings-miss-expectations-street-keeps-a-cautious-stance-10493221.html',\n",
       "  'title': 'Tech Mahindra Q4 earnings miss expectations, Street keeps a cautious stance',\n",
       "  'text': 'Tech Mahindra on April 27 reported a 26 percent YoY decline in net profit at Rs 1,125 crore with revenue coming in flat sequentially at Rs 13,718 crore. Overall street sentiment remains watchful with analysts remaining cautious due to the challenging macro environment and largely expect muted growth in FY24.'},\n",
       " {'link': 'https://www.moneycontrol.com/news/business/stocks/hul-marks-steady-end-to-fy23-but-brokerages-trim-eps-estimates-on-q4-miss-10491691.html',\n",
       "  'title': 'HUL marks steady end to FY23 but brokerages trim EPS estimates on Q4 miss',\n",
       "  'text': 'FMCG market (urban and rural) registered flat volume growth in the March quarter, as per Nielsen data'},\n",
       " {'link': 'https://www.moneycontrol.com/news/business/markets/irb-infra-gains-4-on-bagging-infra-project-from-hyderabad-civic-body-10492821.html',\n",
       "  'title': 'IRB Infra gains 4% on bagging infra project from Hyderabad civic body',\n",
       "  'text': 'IRB Infra has emerged as the selected bidder for the project of Tolling, Operation, Maintenance and Transfer of Nehru Outer Ring Road in Hyderabad, Telangana. And IRB Infrastructure has secured an order from Hyderabad Metropolitan Development Authority.'},\n",
       " {'link': 'https://www.moneycontrol.com/news/business/markets/rvnl-jumps-8-on-rs-121-crore-order-win-10492761.html',\n",
       "  'title': 'RVNL jumps 8% on Rs 121-crore order win',\n",
       "  'text': 'The share, which was trading close to its 52-week high of Rs 107.67, has zoomed 40 percent in the past week and over 60 percent in the past month'},\n",
       " {'link': 'https://www.moneycontrol.com/news/business/stocks/ltimindtree-logs-in-22-rise-in-q4-revenue-but-flat-profit-keeps-brokerages-divided-10492671.html',\n",
       "  'title': 'LTIMindtree logs in 22% rise in Q4 revenue, but flat profit keeps brokerages divided',\n",
       "  'text': \"IT firm, LTIMindtree posted flat profit for the quarter ending March 2023 at Rs 1,114 crore while reporting a 22 percent jump in revenue at Rs 8.691 crore. Street sentiment is mixed with IDBI Capital upgrading its rating from 'hold' to 'buy' and expects the company to return to strong growth trajectory in FY25. However, Kotak Institutional Equities has given the stock a 'reduce' rating and expects a slow start to FY24.\"},\n",
       " {'link': 'https://www.moneycontrol.com/news/business/markets/aarti-surfactants-zooms-17-on-twofold-jump-in-q4-profit-10492541.html',\n",
       "  'title': 'Aarti Surfactants zooms 17% on twofold jump in Q4 profit',\n",
       "  'text': 'For FY23, Aarti Surfactants posted a sharp rise in net profit at Rs 12.7 crore, up from Rs 5.49 crore in the previous fiscal'},\n",
       " {'link': 'https://www.moneycontrol.com/news/business/markets/shriram-finance-shares-decline-6-57-despite-18-surge-in-q4-net-profit-10492441.html',\n",
       "  'title': 'Shriram Finance shares decline 6.57% despite 18% surge in Q4 net profit',\n",
       "  'text': 'On a 5-year basis the Shriram Finance stock has considerably been outperformed by the Nifty50 benchmark index. As the Shriram Finance stock has lost 15.33 percent of its value over the last 5 years. Whereas, the Nifty50 benchmark has given a return of 66.73 percent during the same duration.'},\n",
       " {'link': 'https://www.moneycontrol.com/news/business/markets/axis-bank-posts-loss-of-rs-5728-42-crore-on-citi-bank-deal-heres-what-brokerages-say-10491331.html',\n",
       "  'title': \"Axis Bank slips 2% on net loss in Q4, here's what brokerages say\",\n",
       "  'text': \"Axis Bank's bottomline was hit by the cost of purchasing Citi Bank's India consumer business, excluding which, it posted a significant 61 percent on-year growth\"},\n",
       " {'link': 'https://www.moneycontrol.com/news/business/stocks/wipro-reports-muted-profit-growth-in-q4-what-should-investors-do-10489481.html',\n",
       "  'title': 'Buyback boosts Wipro but brokerages cautious on muted Q4 numbers',\n",
       "  'text': 'Wipro Q4 result: Brokerages expect a muted performance in FY24 as well from Wipro but say that the buyback plan will stabilise the stock price in the near term'},\n",
       " {'link': 'https://www.moneycontrol.com/news/business/markets/zomato-delivers-over-20-return-in-one-month-will-it-surpass-200-day-ema-soon-10490791.html',\n",
       "  'title': 'Zomato delivers over 20% return in one month. Will it surpass 200-day EMA soon?',\n",
       "  'text': 'Now the stock is few rupees away from its 200-day EMA which is placed at Rs 62.34 on the daily scale, which experts feel may easily surpass in coming sessions considering the current momentum.'},\n",
       " {'link': 'https://www.moneycontrol.com/news/photos/business/stocks/buzzing-stocks-axis-bank-tech-mahindra-wipro-gcpl-others-in-news-today-10490051.html',\n",
       "  'title': 'Buzzing Stocks: Axis Bank, Tech Mahindra, Wipro, GCPL, others in news today',\n",
       "  'text': 'Stocks to Watch: Check out the companies making headlines before the opening bell today.'},\n",
       " {'link': 'https://www.moneycontrol.com/news/business/markets/raymond-has-surged-over-58-in-a-month-is-it-time-to-book-profits-10487271.html',\n",
       "  'title': 'Raymond has surged over 58% in a month. Is it time to book profits?',\n",
       "  'text': 'Raymond was trading higher after Moneycontrol reported that Godrej Consumer Products is likely to announce the acquisition of its consumer care business'},\n",
       " {'link': 'https://www.moneycontrol.com/news/business/stocks/voltas-misses-q4-estimates-with-net-profit-down-21-on-shrinking-market-share-10485291.html',\n",
       "  'title': 'Voltas misses Q4 estimates with net profit down 21% on shrinking market share',\n",
       "  'text': \"Voltas' operating performance was weak, revenue grew by 10.88 percent year-on-year to Rs 2,957 crore while EBITDA fell 16.4 percent\"},\n",
       " {'link': 'https://www.moneycontrol.com/news/business/stocks/pepsico-coke-earnings-indicate-tailwinds-for-varun-beverages-jefferies-10484551.html',\n",
       "  'title': 'PepsiCo & Coke earnings indicate tailwinds for Varun Beverages: Jefferies',\n",
       "  'text': 'PepsiCo saw double-digit volume growth in India while Coke clocked 10 percent volume growth in its Asia Pacific unit'},\n",
       " {'link': 'https://www.moneycontrol.com/news/business/markets/goldiam-international-shines-3-brighter-on-rs-50-crore-export-order-for-jewellery-10485191.html',\n",
       "  'title': 'Goldiam International shines 3% brighter on Rs 50 crore export order for jewellery',\n",
       "  'text': 'Out of the above order, lab-grown diamond jewellery contributes around 35 percent.'},\n",
       " {'link': 'https://www.moneycontrol.com/news/business/markets/syngene-international-scales-52-week-high-on-21-rise-in-q4-net-profit-10483971.html',\n",
       "  'title': 'Syngene International scales 52-week high on 21% rise in Q4 net profit',\n",
       "  'text': 'Syngene International delivered the highest absolute year-on-year increase in revenue and EBITDA in the last 5 years in FY23.'},\n",
       " {'link': 'https://www.moneycontrol.com/news/business/earnings/lt-tech-shares-gain-3-on-strong-earnings-but-brokerages-stay-cautious-10484161.html',\n",
       "  'title': 'L&T Tech shares gain 3% on strong earnings, but brokerages stay cautious',\n",
       "  'text': 'Shares of L&T Technology Services Ltd gained 3 percent after the company reported strong earnings and revenue guidance.'},\n",
       " {'link': 'https://www.moneycontrol.com/news/business/markets/hdfc-life-insurance-q4-net-profit-flat-here-is-what-brokerages-have-to-say-10483591.html',\n",
       "  'title': \"HDFC Life Insurance trades lower on flat profit growth: Here's what brokerages have to say\",\n",
       "  'text': 'HDFC Life Insurance Company reported a net profit of Rs 359 crore in the March quarter, marginally higher from Rs 357 crore in the year-ago period. Sequentially, net profit rose 14 percent to Rs 359 crore'},\n",
       " {'link': 'https://www.moneycontrol.com/news/business/stocks/bajaj-finance-q4-profit-zooms-31-what-should-be-the-strategy-now-10482491.html',\n",
       "  'title': 'Bajaj Finance Q4 profit zooms more than 30%; what should be the strategy now?',\n",
       "  'text': 'The Board of Directors have recommended a dividend on equity shares at the rate of Rs 30 per share, the company said in a regulatory filing.'},\n",
       " {'link': 'https://www.moneycontrol.com/news/business/stocks/maruti-suzuki-q4-profit-up-43-brokerages-maintain-buy-tag-10482511.html',\n",
       "  'title': \"Maruti Suzuki Q4 profit up 43%; most brokerages maintain 'buy' on the stock\",\n",
       "  'text': 'Maruti Suzuki Q4: Broking house Motilal Oswal maintains buy with a Target Price of Rs 10,100/share.'}]"
      ]
     },
     "execution_count": 27,
     "metadata": {},
     "output_type": "execute_result"
    }
   ],
   "source": [
    "temp"
   ]
  },
  {
   "cell_type": "code",
   "execution_count": null,
   "metadata": {},
   "outputs": [],
   "source": []
  }
 ],
 "metadata": {
  "kernelspec": {
   "display_name": "Python 3",
   "language": "python",
   "name": "python3"
  },
  "language_info": {
   "codemirror_mode": {
    "name": "ipython",
    "version": 3
   },
   "file_extension": ".py",
   "mimetype": "text/x-python",
   "name": "python",
   "nbconvert_exporter": "python",
   "pygments_lexer": "ipython3",
   "version": "3.11.0"
  },
  "orig_nbformat": 4
 },
 "nbformat": 4,
 "nbformat_minor": 2
}
